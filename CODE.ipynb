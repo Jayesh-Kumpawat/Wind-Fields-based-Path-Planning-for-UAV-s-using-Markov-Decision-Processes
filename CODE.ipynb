{
  "nbformat": 4,
  "nbformat_minor": 0,
  "metadata": {
    "colab": {
      "name": "RL_Project.ipynb",
      "provenance": []
    },
    "kernelspec": {
      "name": "python3",
      "display_name": "Python 3"
    },
    "language_info": {
      "name": "python"
    }
  },
  "cells": [
    {
      "cell_type": "code",
      "source": [
        "from __future__ import print_function\n",
        "import numpy as np\n",
        "import matplotlib.pyplot as plt\n",
        "import gym\n",
        "from gym import spaces\n",
        "from gym.utils import seeding\n",
        "import sys\n",
        "import math\n",
        "from math import cos, sin, atan, pi\n",
        "import scipy.stats\n",
        "from scipy.stats import norm"
      ],
      "metadata": {
        "id": "VsPGevxdkRFu"
      },
      "execution_count": 1,
      "outputs": []
    },
    {
      "cell_type": "code",
      "source": [
        "class WE_PathPlanning(gym.Env):\n",
        "    '''Creates the Stochastic Windy GridWorld Environment\n",
        "       NOISE_CASE = 1: the noise is a scalar added to the wind tiles, i.e,\n",
        "                       all wind tiles are changed by the same amount\n",
        "       NOISE_CASE = 2: the noise is a vector added to the wind tiles, i.e,\n",
        "                       wind tiles are changed by different amounts.\n",
        "    '''\n",
        "    def __init__(self, VELOCITY, StandardDev_W, GRID_HEIGHT=7, GRID_WIDTH=7,\\\n",
        "                 START_STATE = (6,0), GOAL_STATE = (0, 5)):\n",
        "                                                              \n",
        "                                                              \n",
        "        self.seed()\n",
        "        self.grid_height = GRID_HEIGHT\n",
        "        self.grid_width = GRID_WIDTH\n",
        "        self.start_state = START_STATE\n",
        "        self.goal_state = GOAL_STATE\n",
        "        self.v = VELOCITY\n",
        "        self.sig_w = StandardDev_W\n",
        "        # self.h_angle = HEAD_ANGLE\n",
        "        self.observation = START_STATE\n",
        "        \n",
        "        self.actions = { 'E':0,    \n",
        "                         'NE':1,   \n",
        "                         'N':2,   \n",
        "                         'NW':3,   \n",
        "                         'W':4,\n",
        "                         'SW':5,  \n",
        "                         'S':6,  \n",
        "                         'SE':7 }\n",
        "        self.world = [\n",
        "                      [(0,0),(0,1),(0,2),(0,3),(0,4),(0,5),(0,6)],\n",
        "                      [(1,0),(1,1),(1,2),(1,3),(1,4),(1,5),(1,6)],\n",
        "                      [(2,0),(2,1),(2,2),(2,3),(2,4),(2,5),(2,6)],\n",
        "                      [(3,0),(3,1),(3,2),(3,3),(3,4),(3,5),(3,6)],\n",
        "                      [(4,0),(4,1),(4,2),(4,3),(4,4),(4,5),(4,6)],\n",
        "                      [(5,0),(5,1),(5,2),(5,3),(5,4),(5,5),(5,6)],\n",
        "                      [(6,0),(6,1),(6,2),(6,3),(6,4),(6,5),(6,6)]\n",
        "                     ]\n",
        "        self.history = [START_STATE]        \n",
        "    \n",
        "    def wind_field():  # NEED TO SCALE TO (5,15)\n",
        "        x, y = np.meshgrid(np.arange(7),np.arange(7))\n",
        "        u = -y/np.sqrt(x**2 + y**2)   # X-component of the vector\n",
        "        v = x/(x**2 + y**2)           # Y-component of the vector\n",
        "        # u[i, j] to get X component of the grid at ith row & jth column \n",
        "        return u, v\n",
        "    \n",
        "    def transition_probs(self, state, action, next_state):\n",
        "        actions = ['E', 'NE', 'N', 'NW', 'W', 'SW', 'S', 'SE']\n",
        "        actions_angles = {}\n",
        "        for i in range(8):\n",
        "          if i == 0:\n",
        "            actions_angles[actions[i]] = 0\n",
        "          else:\n",
        "            actions_angles[actions[i]] = actions_angles[actions[i-1]] + pi/4 \n",
        "\n",
        "        i, j = state\n",
        "        h_angle = actions_angles[action]    # h_angle = heading angle(psi)\n",
        "        Fx = self.v * cos(h_angle) + float(u[i,j])      \n",
        "        Fy = self.v * sin(h_angle) + float(v[i,j])\n",
        "        w = atan(Fy/Fx)                     # w = omega- resultant vector angle\n",
        "\n",
        "        def prob(theta):\n",
        "            probability = norm(w, self.sig_w).cdf(theta + pi/8) - norm(w, self.sig_w).cdf(theta - pi/8)\n",
        "            return probability\n",
        "\n",
        "        p, q = next_state\n",
        "        if abs(p - i) <= 1 and abs(q - j) <= 1 and (p, q) != (i, j):\n",
        "          \n",
        "            if (p,q) == (i,j+1):\n",
        "              return prob(actions_angles['E'])\n",
        "\n",
        "            elif (p,q) == (i-1,j+1):\n",
        "              return prob(actions_angles['NE'])\n",
        "\n",
        "            elif (p,q) == (i-1,j):\n",
        "              return prob(actions_angles['N'])\n",
        "\n",
        "            elif (p,q) == (i-1,j-1):\n",
        "              return prob(actions_angles['NW'])\n",
        "\n",
        "            elif (p,q) == (i,j-1):\n",
        "              return prob(actions_angles['W'])\n",
        "\n",
        "            elif (p,q) == (i+1,j-1):\n",
        "              return prob(actions_angles['SW'])\n",
        "\n",
        "            elif (p,q) == (i+1,j):\n",
        "              return prob(actions_angles['S'])\n",
        "\n",
        "            elif (p,q) == (i+1,j+1):\n",
        "              return prob(actions_angles['SE'])  \n",
        "        else:\n",
        "          return 0\n",
        "\n",
        "    def reward(self, state):\n",
        "        if state == self.goal_state:\n",
        "          return 100\n",
        "        else:\n",
        "          i, j = state\n",
        "          target_vector = np.array(self.goal_state) - [i, j]\n",
        "          tv_mag = np.linalg.norm(target_vector)\n",
        "          wi = u[i][j] \n",
        "          wj = v[i][j]  \n",
        "          numerator = np.dot(target_vector, [wi, wj])/tv_mag\n",
        "          W_max = 15\n",
        "          C = 30\n",
        "          Reward = (numerator / W_max) * C\n",
        "          return Reward\n",
        "    \n",
        "    def step(self, action):\n",
        "        \n",
        "        i, j = self.observation\n",
        "        # [(i,j+1), (i-1,j+1), (i-1,j), (i-1,j-1), (i,j-1), (i+1,j-1), (i+1,j), (i+1,j+1)]\n",
        "\n",
        "        if i == 0:\n",
        "          if j == 0:\n",
        "            next_state = [(i,j+1), (i+1,j), (i+1,j+1)]\n",
        "          elif j == 6:\n",
        "            next_state = [(i,j-1), (i+1,j-1), (i+1,j)]\n",
        "          else:\n",
        "            next_state = [(i,j+1), (i,j-1), (i+1,j-1), (i+1,j), (i+1,j+1)]\n",
        "\n",
        "        elif i == 6:\n",
        "          if j == 0:\n",
        "            next_state = [(i,j+1), (i-1,j+1), (i-1,j)]\n",
        "          elif j == 6:\n",
        "            next_state = [(i-1,j), (i-1,j-1), (i,j-1)]\n",
        "          else:\n",
        "            next_state = [(i,j+1), (i-1,j+1), (i-1,j), (i-1,j-1), (i,j-1)]\n",
        "\n",
        "        elif j == 0:\n",
        "          next_state = [(i,j+1), (i-1,j+1), (i-1,j), (i+1,j), (i+1,j+1)]\n",
        "        elif j == 6:\n",
        "          next_state = [(i-1,j), (i-1,j-1), (i,j-1), (i+1,j-1), (i+1,j)]\n",
        "\n",
        "        else:\n",
        "          next_state = [(i,j+1), (i-1,j+1), (i-1,j), (i-1,j-1), (i,j-1), (i+1,j-1), (i+1,j), (i+1,j+1)]\n",
        "\n",
        "        P = []\n",
        "        for t in next_state:\n",
        "          P.append(self.transition_probs(self.observation, action, t))\n",
        "        arr = np.array(P)\n",
        "        arr = arr/np.sum(arr)\n",
        "        P = arr.tolist()\n",
        "\n",
        "\n",
        "        next_state_map = {\n",
        "                            'E': (i,j+1),\n",
        "                            'NE': (i-1,j+1),\n",
        "                            'N': (i-1,j),\n",
        "                            'NW': (i-1,j-1),\n",
        "                            'W': (i,j-1),\n",
        "                            'SW': (i+1,j-1),\n",
        "                            'S': (i+1,j),         \n",
        "                            'SE': (i+1,j+1)\n",
        "                         }\n",
        "\n",
        "        rev_next_state_map = {\n",
        "                              (i,j+1): 'E',\n",
        "                              (i-1,j+1): 'NE',\n",
        "                              (i-1,j): 'N',\n",
        "                              (i-1,j-1): 'NW',\n",
        "                              (i,j-1): 'W',\n",
        "                              (i+1,j-1): 'SW',\n",
        "                              (i+1,j): 'S',         \n",
        "                              (i+1,j+1): 'SE'\n",
        "                             }\n",
        "\n",
        "        maps = []\n",
        "        for s in next_state:\n",
        "          maps.append(rev_next_state_map[s])\n",
        "        \n",
        "        trans_state = np.random.choice(maps, p=P)\n",
        "        self.observation = next_state_map[trans_state]\n",
        "\n",
        "        self.history.append(self.observation)\n",
        "        \n",
        "        if self.observation == self.goal_state:\n",
        "            return self.observation, True  \n",
        "        return self.observation, False     \n",
        "          \n",
        "    def reset(self):\n",
        "        ''' resets the agent position back to the starting position'''\n",
        "        self.observation = self.start_state\n",
        "        return self.observation   \n",
        "\n",
        "    def render(self, mode='human', close=False):\n",
        "      \n",
        "        outfile = sys.stdout\n",
        "        nS = self.grid_height * self.grid_width\n",
        "        shape = (self.grid_height, self. grid_width)\n",
        "\n",
        "        outboard = \"\"\n",
        "        for y in range(-1, self.grid_height + 1):\n",
        "            outline = \"\"\n",
        "            for x in range(-1, self.grid_width + 1):\n",
        "                position = (y, x)\n",
        "                if self.observation == position:\n",
        "                    output = \"X\"\n",
        "                elif position == self.goal_state:\n",
        "                    output = \"G\"\n",
        "                elif position == self.start_state:\n",
        "                    output = \"S\"\n",
        "                elif x in {-1, self.grid_width } or y in {-1, self.grid_height}:\n",
        "                    output = \"#\"\n",
        "                else:\n",
        "                    output = \" \"\n",
        "\n",
        "                if position[1] == shape[1]:\n",
        "                    output += '\\n'\n",
        "                outline += output\n",
        "            outboard += outline\n",
        "        outboard += '\\n'\n",
        "        outfile.write(outboard)\n",
        "\n",
        "        if len(self.history)>1:\n",
        "            for i in range(len(self.history)-1):\n",
        "                plt.plot([100*self.history[i][0]+50,100*self.history[i+1][0]+50],[100*self.history[i][1]+50,100*self.history[i+1][1]+50],color=\"black\", linewidth=1)\n",
        "        \n",
        "        plt.grid(color=\"orange\")\n",
        "        plt.xticks(np.arange(0,100*self.grid_height+1,100),(np.arange(0,100*self.grid_width+1,100)/100).astype(np.int0))\n",
        "        plt.yticks(np.arange(0,100*self.grid_height+1,100),(np.arange(0,100*self.grid_width+1,100)/100).astype(np.int0))\n",
        "        plt.tick_params(axis='y', labelright=True,labelleft=False)\n",
        "        plt.show()\n",
        "        \n",
        "    def seed(self, seed=None):\n",
        "        ''' sets the seed for the envirnment'''\n",
        "        self.np_random, seed = seeding.np_random(seed)\n",
        "        return [seed]"
      ],
      "metadata": {
        "id": "y8nfWm4nkIqi"
      },
      "execution_count": 2,
      "outputs": []
    },
    {
      "cell_type": "code",
      "source": [
        "# NEED TO SCALE TO (5,15)\n",
        "x, y = np.meshgrid(np.arange(7),np.arange(7))\n",
        "u = -y/np.sqrt(x**2 + y**2)   # X-component of the vector\n",
        "v = x/(x**2 + y**2) #+ 0.5      # Y-component of the vector\n",
        "# u[i, j] to get X component of the grid at ith row & jth column "
      ],
      "metadata": {
        "colab": {
          "base_uri": "https://localhost:8080/"
        },
        "id": "IVdo32FFiS8Q",
        "outputId": "77efc7e8-14db-4a0f-a52a-51d7098d501b"
      },
      "execution_count": 3,
      "outputs": [
        {
          "output_type": "stream",
          "name": "stderr",
          "text": [
            "/usr/local/lib/python3.7/dist-packages/ipykernel_launcher.py:3: RuntimeWarning: invalid value encountered in true_divide\n",
            "  This is separate from the ipykernel package so we can avoid doing imports until\n",
            "/usr/local/lib/python3.7/dist-packages/ipykernel_launcher.py:4: RuntimeWarning: invalid value encountered in true_divide\n",
            "  after removing the cwd from sys.path.\n"
          ]
        }
      ]
    },
    {
      "cell_type": "code",
      "source": [
        "# x, y = np.meshgrid(np.arange(7),np.arange(7))\n",
        "\n",
        "# u = 2*np.cos(y)\n",
        "# v = np.sin(x)"
      ],
      "metadata": {
        "id": "imo4SmrNbkG5"
      },
      "execution_count": 4,
      "outputs": []
    },
    {
      "cell_type": "code",
      "source": [
        "# Plotting Wind Field with QUIVER\n",
        "plt.quiver(x, y, u, v, color='g')\n",
        "plt.title('Wind Field')\n",
        "\n",
        "# plt.grid()\n",
        "plt.show()"
      ],
      "metadata": {
        "colab": {
          "base_uri": "https://localhost:8080/",
          "height": 281
        },
        "id": "mzJX9p7l2kVJ",
        "outputId": "202c0015-b6c1-48e0-88b9-4ea995e069ce"
      },
      "execution_count": 5,
      "outputs": [
        {
          "output_type": "display_data",
          "data": {
            "text/plain": [
              "<Figure size 432x288 with 1 Axes>"
            ],
            "image/png": "[encoded data removed]"
          },
          "metadata": {
            "needs_background": "light"
          }
        }
      ]
    },
    {
      "cell_type": "code",
      "source": [
        "agent = WE_PathPlanning(20, 1) #START_STATE = , GOAL_STATE = (1,6)"
      ],
      "metadata": {
        "id": "doPDdEQeewqe"
      },
      "execution_count": 6,
      "outputs": []
    },
    {
      "cell_type": "code",
      "source": [
        "agent.world"
      ],
      "metadata": {
        "colab": {
          "base_uri": "https://localhost:8080/"
        },
        "id": "uR4T8lXfHgve",
        "outputId": "b0a19e01-ec95-4f4d-c12f-c2e55f1e4bde"
      },
      "execution_count": 7,
      "outputs": [
        {
          "output_type": "execute_result",
          "data": {
            "text/plain": [
              "[[(0, 0), (0, 1), (0, 2), (0, 3), (0, 4), (0, 5), (0, 6)],\n",
              " [(1, 0), (1, 1), (1, 2), (1, 3), (1, 4), (1, 5), (1, 6)],\n",
              " [(2, 0), (2, 1), (2, 2), (2, 3), (2, 4), (2, 5), (2, 6)],\n",
              " [(3, 0), (3, 1), (3, 2), (3, 3), (3, 4), (3, 5), (3, 6)],\n",
              " [(4, 0), (4, 1), (4, 2), (4, 3), (4, 4), (4, 5), (4, 6)],\n",
              " [(5, 0), (5, 1), (5, 2), (5, 3), (5, 4), (5, 5), (5, 6)],\n",
              " [(6, 0), (6, 1), (6, 2), (6, 3), (6, 4), (6, 5), (6, 6)]]"
            ]
          },
          "metadata": {},
          "execution_count": 7
        }
      ]
    },
    {
      "cell_type": "code",
      "source": [
        "# states = np.zeros((7,7))\n",
        "\n",
        "V = np.zeros((7,7))\n",
        "PI = np.zeros((7,7))\n",
        "\n",
        "max_iter = 10000  # Maximum number of iterations\n",
        "delta = 10\n",
        "gamma = 0.9"
      ],
      "metadata": {
        "id": "zboIqp8V-bJS"
      },
      "execution_count": 8,
      "outputs": []
    },
    {
      "cell_type": "code",
      "source": [
        "for k in range(max_iter):\n",
        "    max_diff = 0  # Initialize max difference\n",
        "    V_new = np.zeros((7,7))  # Initialize values\n",
        "    for x in agent.world:\n",
        "        for y in x:\n",
        "            max_val = 0\n",
        "            for a in agent.actions:\n",
        "\n",
        "            # Compute state value\n",
        "                val = agent.reward(y)  # Get direct reward\n",
        "                for i in agent.world:\n",
        "                    for j in i:\n",
        "                        val += agent.transition_probs(y, a, j) * (gamma * V[j]) # Add discounted downstream values\n",
        "\n",
        "            # Store value best action so far\n",
        "                max_val = max(max_val, val)\n",
        "                # print(max_val)\n",
        "            # Update best policy\n",
        "                if V_new[y] < val:\n",
        "                    PI[y] = agent.actions[a]  # Store action with highest value\n",
        "\n",
        "            V_new[y] = max_val  # Update value with highest value\n",
        "\n",
        "        # Update maximum difference\n",
        "            max_diff = max(max_diff, abs(V[y] - V_new[y]))\n",
        "\n",
        "    # Update value functions\n",
        "    V = V_new\n",
        "\n",
        "    # If diff smaller than threshold delta for all states, algorithm terminates\n",
        "    if max_diff < delta:\n",
        "        break"
      ],
      "metadata": {
        "id": "svXsoWeJ-TQr"
      },
      "execution_count": 9,
      "outputs": []
    },
    {
      "cell_type": "code",
      "source": [
        "print(V)"
      ],
      "metadata": {
        "colab": {
          "base_uri": "https://localhost:8080/"
        },
        "id": "-n2U3hS4vaKy",
        "outputId": "7bce3fcc-f193-4e2c-fe77-7ce1ddb25e27"
      },
      "execution_count": 10,
      "outputs": [
        {
          "output_type": "stream",
          "name": "stdout",
          "text": [
            "[[  0.           2.908055     3.30708596   8.65766712  29.11877367\n",
            "  104.24126851   9.41879755]\n",
            " [  1.61294348   4.20599616   8.25875481  20.09464335  45.01910209\n",
            "   43.43664863  27.88871734]\n",
            " [  2.45517542   5.49055602  11.89338438  23.07645277  29.76283774\n",
            "   30.79040421  18.99941416]\n",
            " [  3.11924662   5.57546804  10.22839259  15.49892917  19.54552286\n",
            "   18.9496148   11.95655002]\n",
            " [  3.66080938   4.9721704    6.41645141   8.28408048   9.65314449\n",
            "    9.22348947   5.99400173]\n",
            " [  4.13150404   5.08338748   5.47046931   5.4186549    4.99143818\n",
            "    4.19850081   2.82674321]\n",
            " [  4.54752467   5.48114026   5.86501449   5.84841255   5.48006447\n",
            "    4.706801     3.20432532]]\n"
          ]
        }
      ]
    },
    {
      "cell_type": "code",
      "source": [
        "print(PI)"
      ],
      "metadata": {
        "colab": {
          "base_uri": "https://localhost:8080/"
        },
        "id": "eO6_qNtE-TJS",
        "outputId": "768742ef-2008-48ac-a3cd-5df40828a18c"
      },
      "execution_count": 11,
      "outputs": [
        {
          "output_type": "stream",
          "name": "stdout",
          "text": [
            "[[0. 7. 7. 7. 7. 7. 6.]\n",
            " [7. 7. 7. 7. 7. 7. 7.]\n",
            " [7. 7. 7. 7. 7. 7. 7.]\n",
            " [7. 7. 7. 7. 7. 7. 7.]\n",
            " [7. 7. 7. 7. 7. 7. 7.]\n",
            " [7. 7. 7. 7. 7. 7. 7.]\n",
            " [7. 7. 7. 7. 7. 7. 7.]]\n"
          ]
        }
      ]
    },
    {
      "cell_type": "code",
      "source": [
        "agent.reset()"
      ],
      "metadata": {
        "colab": {
          "base_uri": "https://localhost:8080/"
        },
        "id": "d-8Mn42XYFr0",
        "outputId": "1fb8cbdd-d0ca-49f4-82ed-d263d840b285"
      },
      "execution_count": 14,
      "outputs": [
        {
          "output_type": "execute_result",
          "data": {
            "text/plain": [
              "(6, 0)"
            ]
          },
          "metadata": {},
          "execution_count": 14
        }
      ]
    },
    {
      "cell_type": "code",
      "source": [
        "agent.render()"
      ],
      "metadata": {
        "colab": {
          "base_uri": "https://localhost:8080/",
          "height": 447
        },
        "id": "NdO88B54aAu5",
        "outputId": "5da6e90c-69ca-492a-ecf2-fa5641e71a40"
      },
      "execution_count": 12,
      "outputs": [
        {
          "output_type": "stream",
          "name": "stdout",
          "text": [
            "#########\n",
            "#     G #\n",
            "#       #\n",
            "#       #\n",
            "#       #\n",
            "#       #\n",
            "#       #\n",
            "#X      #\n",
            "#########\n",
            "\n"
          ]
        },
        {
          "output_type": "display_data",
          "data": {
            "text/plain": [
              "<Figure size 432x288 with 1 Axes>"
            ],
            "image/png": "[encoded data removed]"
          },
          "metadata": {
            "needs_background": "light"
          }
        }
      ]
    },
    {
      "cell_type": "code",
      "source": [
        "# def play_policy(env,policy):\n",
        "action_rev = {\n",
        "                            0:'E',\n",
        "                            1:'NE',\n",
        "                            2:'N',\n",
        "                            3:'NW',\n",
        "                            4:'W',\n",
        "                            5:'SW',\n",
        "                            6:'S',\n",
        "                            7:'SE'\n",
        "                  }        \n",
        "s = agent.start_state\n",
        "count=0\n",
        "while True:\n",
        "  action = PI[s[0],s[1]]\n",
        "  a = action_rev[action]\n",
        "  next_state, done = agent.step(a)\n",
        "  s = next_state\n",
        "  count+=1\n",
        "  agent.render()\n",
        "  print(done)\n",
        "\n",
        "  if done or count==30:\n",
        "      break\n",
        "    \n",
        "  "
      ],
      "metadata": {
        "colab": {
          "base_uri": "https://localhost:8080/",
          "height": 1000
        },
        "id": "pMsW03Ri-TCv",
        "outputId": "efd48e95-b54a-42d2-b4ad-f4eeee952fe2"
      },
      "execution_count": 13,
      "outputs": [
        {
          "output_type": "stream",
          "name": "stdout",
          "text": [
            "#########\n",
            "#     G #\n",
            "#       #\n",
            "#       #\n",
            "#       #\n",
            "#       #\n",
            "#       #\n",
            "#SX     #\n",
            "#########\n",
            "\n"
          ]
        },
        {
          "output_type": "display_data",
          "data": {
            "text/plain": [
              "<Figure size 432x288 with 1 Axes>"
            ],
            "image/png": "[encoded data removed]"
          },
          "metadata": {
            "needs_background": "light"
          }
        },
        {
          "output_type": "stream",
          "name": "stdout",
          "text": [
            "False\n",
            "#########\n",
            "#     G #\n",
            "#       #\n",
            "#       #\n",
            "#       #\n",
            "#       #\n",
            "#       #\n",
            "#S X    #\n",
            "#########\n",
            "\n"
          ]
        },
        {
          "output_type": "display_data",
          "data": {
            "text/plain": [
              "<Figure size 432x288 with 1 Axes>"
            ],
            "image/png": "[encoded data removed]"
          },
          "metadata": {
            "needs_background": "light"
          }
        },
        {
          "output_type": "stream",
          "name": "stdout",
          "text": [
            "False\n",
            "#########\n",
            "#     G #\n",
            "#       #\n",
            "#       #\n",
            "#       #\n",
            "#       #\n",
            "#   X   #\n",
            "#S      #\n",
            "#########\n",
            "\n"
          ]
        },
        {
          "output_type": "display_data",
          "data": {
            "text/plain": [
              "<Figure size 432x288 with 1 Axes>"
            ],
            "image/png": "[encoded data removed]"
          },
          "metadata": {
            "needs_background": "light"
          }
        },
        {
          "output_type": "stream",
          "name": "stdout",
          "text": [
            "False\n",
            "#########\n",
            "#     G #\n",
            "#       #\n",
            "#       #\n",
            "#       #\n",
            "#    X  #\n",
            "#       #\n",
            "#S      #\n",
            "#########\n",
            "\n"
          ]
        },
        {
          "output_type": "display_data",
          "data": {
            "text/plain": [
              "<Figure size 432x288 with 1 Axes>"
            ],
            "image/png": "[encoded data removed]"
          },
          "metadata": {
            "needs_background": "light"
          }
        },
        {
          "output_type": "stream",
          "name": "stdout",
          "text": [
            "False\n",
            "#########\n",
            "#     G #\n",
            "#       #\n",
            "#       #\n",
            "#       #\n",
            "#     X #\n",
            "#       #\n",
            "#S      #\n",
            "#########\n",
            "\n"
          ]
        },
        {
          "output_type": "display_data",
          "data": {
            "text/plain": [
              "<Figure size 432x288 with 1 Axes>"
            ],
            "image/png": "[encoded data removed]"
          },
          "metadata": {
            "needs_background": "light"
          }
        },
        {
          "output_type": "stream",
          "name": "stdout",
          "text": [
            "False\n",
            "#########\n",
            "#     G #\n",
            "#       #\n",
            "#       #\n",
            "#      X#\n",
            "#       #\n",
            "#       #\n",
            "#S      #\n",
            "#########\n",
            "\n"
          ]
        },
        {
          "output_type": "display_data",
          "data": {
            "text/plain": [
              "<Figure size 432x288 with 1 Axes>"
            ],
            "image/png": "[encoded data removed]"
          },
          "metadata": {
            "needs_background": "light"
          }
        },
        {
          "output_type": "stream",
          "name": "stdout",
          "text": [
            "False\n",
            "#########\n",
            "#     G #\n",
            "#       #\n",
            "#      X#\n",
            "#       #\n",
            "#       #\n",
            "#       #\n",
            "#S      #\n",
            "#########\n",
            "\n"
          ]
        },
        {
          "output_type": "display_data",
          "data": {
            "text/plain": [
              "<Figure size 432x288 with 1 Axes>"
            ],
            "image/png": "[encoded data removed]"
          },
          "metadata": {
            "needs_background": "light"
          }
        },
        {
          "output_type": "stream",
          "name": "stdout",
          "text": [
            "False\n",
            "#########\n",
            "#     G #\n",
            "#      X#\n",
            "#       #\n",
            "#       #\n",
            "#       #\n",
            "#       #\n",
            "#S      #\n",
            "#########\n",
            "\n"
          ]
        },
        {
          "output_type": "display_data",
          "data": {
            "text/plain": [
              "<Figure size 432x288 with 1 Axes>"
            ],
            "image/png": "[encoded data removed]"
          },
          "metadata": {
            "needs_background": "light"
          }
        },
        {
          "output_type": "stream",
          "name": "stdout",
          "text": [
            "False\n",
            "#########\n",
            "#     X #\n",
            "#       #\n",
            "#       #\n",
            "#       #\n",
            "#       #\n",
            "#       #\n",
            "#S      #\n",
            "#########\n",
            "\n"
          ]
        },
        {
          "output_type": "display_data",
          "data": {
            "text/plain": [
              "<Figure size 432x288 with 1 Axes>"
            ],
            "image/png": "[encoded data removed]"
          },
          "metadata": {
            "needs_background": "light"
          }
        },
        {
          "output_type": "stream",
          "name": "stdout",
          "text": [
            "True\n"
          ]
        }
      ]
    },
    {
      "cell_type": "code",
      "source": [
        ""
      ],
      "metadata": {
        "id": "x1h7K7xOdjYt"
      },
      "execution_count": null,
      "outputs": []
    }
  ]
}